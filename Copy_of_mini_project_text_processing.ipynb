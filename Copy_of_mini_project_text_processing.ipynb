{
  "nbformat": 4,
  "nbformat_minor": 0,
  "metadata": {
    "colab": {
      "provenance": [],
      "gpuType": "T4",
      "authorship_tag": "ABX9TyO/1U+k2WoDsgW5qxwHH0DX",
      "include_colab_link": true
    },
    "kernelspec": {
      "name": "python3",
      "display_name": "Python 3"
    },
    "language_info": {
      "name": "python"
    },
    "accelerator": "GPU"
  },
  "cells": [
    {
      "cell_type": "markdown",
      "metadata": {
        "id": "view-in-github",
        "colab_type": "text"
      },
      "source": [
        "<a href=\"https://colab.research.google.com/github/sathishbandaru/minorproject/blob/main/Copy_of_mini_project_text_processing.ipynb\" target=\"_parent\"><img src=\"https://colab.research.google.com/assets/colab-badge.svg\" alt=\"Open In Colab\"/></a>"
      ]
    },
    {
      "cell_type": "code",
      "execution_count": 1,
      "metadata": {
        "colab": {
          "base_uri": "https://localhost:8080/"
        },
        "id": "vZlbZhGGCXrP",
        "outputId": "ec895582-7374-49b0-999b-1ff6cbd37cae"
      },
      "outputs": [
        {
          "output_type": "stream",
          "name": "stdout",
          "text": [
            "Mounted at /content/drive\n"
          ]
        }
      ],
      "source": [
        "from google.colab import drive\n",
        "drive.mount('/content/drive')"
      ]
    },
    {
      "cell_type": "code",
      "source": [
        "import numpy as np\n",
        "import pandas as pd"
      ],
      "metadata": {
        "id": "8f3cuq-FCvVh"
      },
      "execution_count": 2,
      "outputs": []
    },
    {
      "cell_type": "code",
      "source": [
        "cxr_df=pd.read_csv('/content/drive/My Drive/Mini Project/cxrfolder/cxr_df.csv')\n",
        "labeled_df=pd.read_csv('/content/drive/My Drive/Mini Project/cxrfolder/labeled_reports.csv')"
      ],
      "metadata": {
        "id": "4HbRUBAJC3JH"
      },
      "execution_count": 3,
      "outputs": []
    },
    {
      "cell_type": "code",
      "source": [
        "labeled_df['path']=cxr_df['path']"
      ],
      "metadata": {
        "id": "L_RKMNyhDdZm"
      },
      "execution_count": 4,
      "outputs": []
    },
    {
      "cell_type": "code",
      "source": [
        "sample_df=labeled_df.sample(10)"
      ],
      "metadata": {
        "id": "HSZR0xqKDg9r"
      },
      "execution_count": 5,
      "outputs": []
    },
    {
      "cell_type": "code",
      "source": [
        "labeled_df.columns"
      ],
      "metadata": {
        "colab": {
          "base_uri": "https://localhost:8080/"
        },
        "id": "NioFY5L4DjHm",
        "outputId": "43e1b67b-10a0-4df8-da38-d177f4e3b8b4"
      },
      "execution_count": 6,
      "outputs": [
        {
          "output_type": "execute_result",
          "data": {
            "text/plain": [
              "Index(['Report Impression', 'Enlarged Cardiomediastinum', 'Cardiomegaly',\n",
              "       'Lung Opacity', 'Lung Lesion', 'Edema', 'Consolidation', 'Pneumonia',\n",
              "       'Atelectasis', 'Pneumothorax', 'Pleural Effusion', 'Pleural Other',\n",
              "       'Fracture', 'Support Devices', 'No Finding', 'path'],\n",
              "      dtype='object')"
            ]
          },
          "metadata": {},
          "execution_count": 6
        }
      ]
    },
    {
      "cell_type": "code",
      "source": [
        "atelectasis_df=labeled_df[labeled_df['Atelectasis']==1]"
      ],
      "metadata": {
        "id": "0OMqOF2fDlD_"
      },
      "execution_count": 7,
      "outputs": []
    },
    {
      "cell_type": "code",
      "source": [
        "len(atelectasis_df)"
      ],
      "metadata": {
        "colab": {
          "base_uri": "https://localhost:8080/"
        },
        "id": "_dlgaygyDn2G",
        "outputId": "9b2e3ebf-bea2-4bbc-a2d9-4757fc116e28"
      },
      "execution_count": 8,
      "outputs": [
        {
          "output_type": "execute_result",
          "data": {
            "text/plain": [
              "31042"
            ]
          },
          "metadata": {},
          "execution_count": 8
        }
      ]
    },
    {
      "cell_type": "code",
      "source": [
        "reports=atelectasis_df['Report Impression']\n",
        "len(reports)"
      ],
      "metadata": {
        "colab": {
          "base_uri": "https://localhost:8080/"
        },
        "id": "MDMG_b0RDqt1",
        "outputId": "eef25631-f782-45cf-e13a-8ae631cd6a01"
      },
      "execution_count": 9,
      "outputs": [
        {
          "output_type": "execute_result",
          "data": {
            "text/plain": [
              "31042"
            ]
          },
          "metadata": {},
          "execution_count": 9
        }
      ]
    },
    {
      "cell_type": "code",
      "source": [
        "import spacy\n",
        "from tqdm import tqdm\n",
        "\n",
        "def extract_atelectasis_observations(reports):\n",
        "    nlp = spacy.load(\"en_core_web_sm\")\n",
        "\n",
        "    atelectasis_synonyms = [\n",
        "        \"partial lung collapse\",\n",
        "        \"lung collapse\",\n",
        "        \"partial lung collapses\",\n",
        "        \"bibasilar atelectatic changes persist\",\n",
        "        \"mild left basal atelectasis\",\n",
        "        \"lung volume loss\",\n",
        "        \"collapsed lung segment\",\n",
        "        \"alveolar collapse\",\n",
        "        \"pulmonary collapse\",\n",
        "        \"subsegmental atelectasis\",\n",
        "        \"compression atelectasis\",\n",
        "        \"obstructive atelectasis\",\n",
        "        \"resorption atelectasis\",\n",
        "        \"atelectasis\",\n",
        "        \"atelectatic\"\n",
        "    ]\n",
        "\n",
        "    atelectasis_observations = []\n",
        "\n",
        "    for report in tqdm(reports):\n",
        "        try:\n",
        "            doc = nlp(report)\n",
        "        except Exception as e:\n",
        "            print(f\"Error processing report: {report}\")\n",
        "            print(f\"Error details: {e}\")\n",
        "            continue\n",
        "\n",
        "        atelectasis_info = \"\"\n",
        "        for sent in doc.sents:\n",
        "            try:\n",
        "\n",
        "                if any(synonym in sent.text.lower() for synonym in atelectasis_synonyms):\n",
        "\n",
        "                    independent_clause = None\n",
        "                    for clause in sent.noun_chunks:\n",
        "                        if \"atelectasis\" in clause.text.lower() or any(synonym in clause.text.lower() for synonym in atelectasis_synonyms):\n",
        "                            independent_clause = clause.text\n",
        "                            break\n",
        "\n",
        "\n",
        "                    atelectasis_info += (independent_clause or sent.text) + \" \"\n",
        "            except Exception as e:\n",
        "                print(f\"Error processing sentence: {sent.text}\")\n",
        "                print(f\"Error details: {e}\")\n",
        "\n",
        "        atelectasis_observations.append(atelectasis_info.strip() or \"No atelectasis information\")\n",
        "\n",
        "    return atelectasis_observations\n",
        "\n",
        "\n",
        "result = extract_atelectasis_observations(reports)\n"
      ],
      "metadata": {
        "colab": {
          "base_uri": "https://localhost:8080/"
        },
        "id": "MWrOjPTiDtBg",
        "outputId": "79053e6e-58f0-4c2b-db3d-ef49ff8e1ce1"
      },
      "execution_count": 10,
      "outputs": [
        {
          "output_type": "stream",
          "name": "stderr",
          "text": [
            "100%|██████████| 31042/31042 [07:53<00:00, 65.56it/s]\n"
          ]
        }
      ]
    },
    {
      "cell_type": "code",
      "source": [
        "len(result)"
      ],
      "metadata": {
        "colab": {
          "base_uri": "https://localhost:8080/"
        },
        "id": "JRWK7rz9Dzvz",
        "outputId": "d938e6fd-560a-4a09-c6f3-0575dedfb074"
      },
      "execution_count": 11,
      "outputs": [
        {
          "output_type": "execute_result",
          "data": {
            "text/plain": [
              "31042"
            ]
          },
          "metadata": {},
          "execution_count": 11
        }
      ]
    },
    {
      "cell_type": "code",
      "source": [
        "atelectasis_df['text']=result"
      ],
      "metadata": {
        "colab": {
          "base_uri": "https://localhost:8080/"
        },
        "id": "XwdItHJ7D9lO",
        "outputId": "ea429bf2-42c9-491b-bd75-4a18a59789ce"
      },
      "execution_count": 12,
      "outputs": [
        {
          "output_type": "stream",
          "name": "stderr",
          "text": [
            "<ipython-input-12-0e0f2213d1ce>:1: SettingWithCopyWarning: \n",
            "A value is trying to be set on a copy of a slice from a DataFrame.\n",
            "Try using .loc[row_indexer,col_indexer] = value instead\n",
            "\n",
            "See the caveats in the documentation: https://pandas.pydata.org/pandas-docs/stable/user_guide/indexing.html#returning-a-view-versus-a-copy\n",
            "  atelectasis_df['text']=result\n"
          ]
        }
      ]
    },
    {
      "cell_type": "code",
      "source": [
        "atelectasis_df['text'].value_counts()"
      ],
      "metadata": {
        "colab": {
          "base_uri": "https://localhost:8080/",
          "height": 489
        },
        "id": "bItRackbEAKv",
        "outputId": "82c58f1e-266d-4068-ce2f-9e57d6eb2639"
      },
      "execution_count": 13,
      "outputs": [
        {
          "output_type": "execute_result",
          "data": {
            "text/plain": [
              "text\n",
              "atelectasis                                                 6251\n",
              "No atelectasis information                                  1997\n",
              "bibasilar atelectasis                                       1072\n",
              "lower lobe atelectasis                                       831\n",
              "compressive atelectasis                                      806\n",
              "                                                            ... \n",
              "substantial basal atelectasis                                  1\n",
              "upper lobe rounded atelectasis                                 1\n",
              "Mild retrocardiac opacity unchanged, likely atelectasis.       1\n",
              "atelectasis minimal right basilar atelectasis                  1\n",
              "potentially atelectasis atelectasis                            1\n",
              "Name: count, Length: 5421, dtype: int64"
            ],
            "text/html": [
              "<div>\n",
              "<style scoped>\n",
              "    .dataframe tbody tr th:only-of-type {\n",
              "        vertical-align: middle;\n",
              "    }\n",
              "\n",
              "    .dataframe tbody tr th {\n",
              "        vertical-align: top;\n",
              "    }\n",
              "\n",
              "    .dataframe thead th {\n",
              "        text-align: right;\n",
              "    }\n",
              "</style>\n",
              "<table border=\"1\" class=\"dataframe\">\n",
              "  <thead>\n",
              "    <tr style=\"text-align: right;\">\n",
              "      <th></th>\n",
              "      <th>count</th>\n",
              "    </tr>\n",
              "    <tr>\n",
              "      <th>text</th>\n",
              "      <th></th>\n",
              "    </tr>\n",
              "  </thead>\n",
              "  <tbody>\n",
              "    <tr>\n",
              "      <th>atelectasis</th>\n",
              "      <td>6251</td>\n",
              "    </tr>\n",
              "    <tr>\n",
              "      <th>No atelectasis information</th>\n",
              "      <td>1997</td>\n",
              "    </tr>\n",
              "    <tr>\n",
              "      <th>bibasilar atelectasis</th>\n",
              "      <td>1072</td>\n",
              "    </tr>\n",
              "    <tr>\n",
              "      <th>lower lobe atelectasis</th>\n",
              "      <td>831</td>\n",
              "    </tr>\n",
              "    <tr>\n",
              "      <th>compressive atelectasis</th>\n",
              "      <td>806</td>\n",
              "    </tr>\n",
              "    <tr>\n",
              "      <th>...</th>\n",
              "      <td>...</td>\n",
              "    </tr>\n",
              "    <tr>\n",
              "      <th>substantial basal atelectasis</th>\n",
              "      <td>1</td>\n",
              "    </tr>\n",
              "    <tr>\n",
              "      <th>upper lobe rounded atelectasis</th>\n",
              "      <td>1</td>\n",
              "    </tr>\n",
              "    <tr>\n",
              "      <th>Mild retrocardiac opacity unchanged, likely atelectasis.</th>\n",
              "      <td>1</td>\n",
              "    </tr>\n",
              "    <tr>\n",
              "      <th>atelectasis minimal right basilar atelectasis</th>\n",
              "      <td>1</td>\n",
              "    </tr>\n",
              "    <tr>\n",
              "      <th>potentially atelectasis atelectasis</th>\n",
              "      <td>1</td>\n",
              "    </tr>\n",
              "  </tbody>\n",
              "</table>\n",
              "<p>5421 rows × 1 columns</p>\n",
              "</div><br><label><b>dtype:</b> int64</label>"
            ]
          },
          "metadata": {},
          "execution_count": 13
        }
      ]
    },
    {
      "cell_type": "code",
      "source": [
        "atelectasis_df1=atelectasis_df[atelectasis_df['text']!=\"atelectasis\"]\n",
        "atelectasis_df1=atelectasis_df1[atelectasis_df1['text']!=\"No atelectasis information\"]"
      ],
      "metadata": {
        "id": "t0d0ygOmECrH"
      },
      "execution_count": 14,
      "outputs": []
    },
    {
      "cell_type": "code",
      "source": [
        "atelectasis_df1['text'].value_counts()"
      ],
      "metadata": {
        "colab": {
          "base_uri": "https://localhost:8080/",
          "height": 489
        },
        "id": "vdUAwWgjEFtx",
        "outputId": "377cfc1d-e04e-4ee8-bd40-05e110a469c0"
      },
      "execution_count": 15,
      "outputs": [
        {
          "output_type": "execute_result",
          "data": {
            "text/plain": [
              "text\n",
              "bibasilar atelectasis                                       1072\n",
              "lower lobe atelectasis                                       831\n",
              "compressive atelectasis                                      806\n",
              "Bibasilar atelectasis                                        805\n",
              "basilar atelectasis                                          585\n",
              "                                                            ... \n",
              "substantial basal atelectasis                                  1\n",
              "upper lobe rounded atelectasis                                 1\n",
              "Mild retrocardiac opacity unchanged, likely atelectasis.       1\n",
              "atelectasis minimal right basilar atelectasis                  1\n",
              "potentially atelectasis atelectasis                            1\n",
              "Name: count, Length: 5419, dtype: int64"
            ],
            "text/html": [
              "<div>\n",
              "<style scoped>\n",
              "    .dataframe tbody tr th:only-of-type {\n",
              "        vertical-align: middle;\n",
              "    }\n",
              "\n",
              "    .dataframe tbody tr th {\n",
              "        vertical-align: top;\n",
              "    }\n",
              "\n",
              "    .dataframe thead th {\n",
              "        text-align: right;\n",
              "    }\n",
              "</style>\n",
              "<table border=\"1\" class=\"dataframe\">\n",
              "  <thead>\n",
              "    <tr style=\"text-align: right;\">\n",
              "      <th></th>\n",
              "      <th>count</th>\n",
              "    </tr>\n",
              "    <tr>\n",
              "      <th>text</th>\n",
              "      <th></th>\n",
              "    </tr>\n",
              "  </thead>\n",
              "  <tbody>\n",
              "    <tr>\n",
              "      <th>bibasilar atelectasis</th>\n",
              "      <td>1072</td>\n",
              "    </tr>\n",
              "    <tr>\n",
              "      <th>lower lobe atelectasis</th>\n",
              "      <td>831</td>\n",
              "    </tr>\n",
              "    <tr>\n",
              "      <th>compressive atelectasis</th>\n",
              "      <td>806</td>\n",
              "    </tr>\n",
              "    <tr>\n",
              "      <th>Bibasilar atelectasis</th>\n",
              "      <td>805</td>\n",
              "    </tr>\n",
              "    <tr>\n",
              "      <th>basilar atelectasis</th>\n",
              "      <td>585</td>\n",
              "    </tr>\n",
              "    <tr>\n",
              "      <th>...</th>\n",
              "      <td>...</td>\n",
              "    </tr>\n",
              "    <tr>\n",
              "      <th>substantial basal atelectasis</th>\n",
              "      <td>1</td>\n",
              "    </tr>\n",
              "    <tr>\n",
              "      <th>upper lobe rounded atelectasis</th>\n",
              "      <td>1</td>\n",
              "    </tr>\n",
              "    <tr>\n",
              "      <th>Mild retrocardiac opacity unchanged, likely atelectasis.</th>\n",
              "      <td>1</td>\n",
              "    </tr>\n",
              "    <tr>\n",
              "      <th>atelectasis minimal right basilar atelectasis</th>\n",
              "      <td>1</td>\n",
              "    </tr>\n",
              "    <tr>\n",
              "      <th>potentially atelectasis atelectasis</th>\n",
              "      <td>1</td>\n",
              "    </tr>\n",
              "  </tbody>\n",
              "</table>\n",
              "<p>5419 rows × 1 columns</p>\n",
              "</div><br><label><b>dtype:</b> int64</label>"
            ]
          },
          "metadata": {},
          "execution_count": 15
        }
      ]
    },
    {
      "cell_type": "code",
      "source": [
        "atelectasis_df1=atelectasis_df1.sample(frac=1)"
      ],
      "metadata": {
        "id": "REZ9SzQHEIGk"
      },
      "execution_count": 16,
      "outputs": []
    },
    {
      "cell_type": "code",
      "source": [
        "atelectasis_df_final=atelectasis_df1[['path','text','Report Impression']]"
      ],
      "metadata": {
        "id": "pXgsO97DEK94"
      },
      "execution_count": 17,
      "outputs": []
    },
    {
      "cell_type": "code",
      "source": [
        "atelectasis_df_code=atelectasis_df1[['path','text']]"
      ],
      "metadata": {
        "id": "tYDf6sZhENf-"
      },
      "execution_count": 18,
      "outputs": []
    },
    {
      "cell_type": "code",
      "source": [
        "atelectasis_df_code.head(9)"
      ],
      "metadata": {
        "colab": {
          "base_uri": "https://localhost:8080/",
          "height": 327
        },
        "id": "YsPrD9w9EPv9",
        "outputId": "7f835226-e9e5-4bf6-8662-1ca170617963"
      },
      "execution_count": 19,
      "outputs": [
        {
          "output_type": "execute_result",
          "data": {
            "text/plain": [
              "                                                    path  \\\n",
              "83861  ../input/curated-cxr-report-generation-dataset...   \n",
              "35194  ../input/curated-cxr-report-generation-dataset...   \n",
              "15858  ../input/curated-cxr-report-generation-dataset...   \n",
              "5722   ../input/curated-cxr-report-generation-dataset...   \n",
              "7182   ../input/curated-cxr-report-generation-dataset...   \n",
              "22737  ../input/curated-cxr-report-generation-dataset...   \n",
              "17301  ../input/curated-cxr-report-generation-dataset...   \n",
              "471    ../input/curated-cxr-report-generation-dataset...   \n",
              "34223  ../input/curated-cxr-report-generation-dataset...   \n",
              "\n",
              "                                     text  \n",
              "83861  mild right middle lobe atelectasis  \n",
              "35194                   basal atelectasis  \n",
              "15858               bibasilar atelectasis  \n",
              "5722             retrocardiac atelectasis  \n",
              "7182                      the atelectasis  \n",
              "22737       mild retrocardiac atelectasis  \n",
              "17301              lower lobe atelectasis  \n",
              "471                underlying atelectasis  \n",
              "34223              left basal atelectasis  "
            ],
            "text/html": [
              "\n",
              "  <div id=\"df-6d25f2c9-07e2-4397-9bb1-5260d9424bb8\" class=\"colab-df-container\">\n",
              "    <div>\n",
              "<style scoped>\n",
              "    .dataframe tbody tr th:only-of-type {\n",
              "        vertical-align: middle;\n",
              "    }\n",
              "\n",
              "    .dataframe tbody tr th {\n",
              "        vertical-align: top;\n",
              "    }\n",
              "\n",
              "    .dataframe thead th {\n",
              "        text-align: right;\n",
              "    }\n",
              "</style>\n",
              "<table border=\"1\" class=\"dataframe\">\n",
              "  <thead>\n",
              "    <tr style=\"text-align: right;\">\n",
              "      <th></th>\n",
              "      <th>path</th>\n",
              "      <th>text</th>\n",
              "    </tr>\n",
              "  </thead>\n",
              "  <tbody>\n",
              "    <tr>\n",
              "      <th>83861</th>\n",
              "      <td>../input/curated-cxr-report-generation-dataset...</td>\n",
              "      <td>mild right middle lobe atelectasis</td>\n",
              "    </tr>\n",
              "    <tr>\n",
              "      <th>35194</th>\n",
              "      <td>../input/curated-cxr-report-generation-dataset...</td>\n",
              "      <td>basal atelectasis</td>\n",
              "    </tr>\n",
              "    <tr>\n",
              "      <th>15858</th>\n",
              "      <td>../input/curated-cxr-report-generation-dataset...</td>\n",
              "      <td>bibasilar atelectasis</td>\n",
              "    </tr>\n",
              "    <tr>\n",
              "      <th>5722</th>\n",
              "      <td>../input/curated-cxr-report-generation-dataset...</td>\n",
              "      <td>retrocardiac atelectasis</td>\n",
              "    </tr>\n",
              "    <tr>\n",
              "      <th>7182</th>\n",
              "      <td>../input/curated-cxr-report-generation-dataset...</td>\n",
              "      <td>the atelectasis</td>\n",
              "    </tr>\n",
              "    <tr>\n",
              "      <th>22737</th>\n",
              "      <td>../input/curated-cxr-report-generation-dataset...</td>\n",
              "      <td>mild retrocardiac atelectasis</td>\n",
              "    </tr>\n",
              "    <tr>\n",
              "      <th>17301</th>\n",
              "      <td>../input/curated-cxr-report-generation-dataset...</td>\n",
              "      <td>lower lobe atelectasis</td>\n",
              "    </tr>\n",
              "    <tr>\n",
              "      <th>471</th>\n",
              "      <td>../input/curated-cxr-report-generation-dataset...</td>\n",
              "      <td>underlying atelectasis</td>\n",
              "    </tr>\n",
              "    <tr>\n",
              "      <th>34223</th>\n",
              "      <td>../input/curated-cxr-report-generation-dataset...</td>\n",
              "      <td>left basal atelectasis</td>\n",
              "    </tr>\n",
              "  </tbody>\n",
              "</table>\n",
              "</div>\n",
              "    <div class=\"colab-df-buttons\">\n",
              "\n",
              "  <div class=\"colab-df-container\">\n",
              "    <button class=\"colab-df-convert\" onclick=\"convertToInteractive('df-6d25f2c9-07e2-4397-9bb1-5260d9424bb8')\"\n",
              "            title=\"Convert this dataframe to an interactive table.\"\n",
              "            style=\"display:none;\">\n",
              "\n",
              "  <svg xmlns=\"http://www.w3.org/2000/svg\" height=\"24px\" viewBox=\"0 -960 960 960\">\n",
              "    <path d=\"M120-120v-720h720v720H120Zm60-500h600v-160H180v160Zm220 220h160v-160H400v160Zm0 220h160v-160H400v160ZM180-400h160v-160H180v160Zm440 0h160v-160H620v160ZM180-180h160v-160H180v160Zm440 0h160v-160H620v160Z\"/>\n",
              "  </svg>\n",
              "    </button>\n",
              "\n",
              "  <style>\n",
              "    .colab-df-container {\n",
              "      display:flex;\n",
              "      gap: 12px;\n",
              "    }\n",
              "\n",
              "    .colab-df-convert {\n",
              "      background-color: #E8F0FE;\n",
              "      border: none;\n",
              "      border-radius: 50%;\n",
              "      cursor: pointer;\n",
              "      display: none;\n",
              "      fill: #1967D2;\n",
              "      height: 32px;\n",
              "      padding: 0 0 0 0;\n",
              "      width: 32px;\n",
              "    }\n",
              "\n",
              "    .colab-df-convert:hover {\n",
              "      background-color: #E2EBFA;\n",
              "      box-shadow: 0px 1px 2px rgba(60, 64, 67, 0.3), 0px 1px 3px 1px rgba(60, 64, 67, 0.15);\n",
              "      fill: #174EA6;\n",
              "    }\n",
              "\n",
              "    .colab-df-buttons div {\n",
              "      margin-bottom: 4px;\n",
              "    }\n",
              "\n",
              "    [theme=dark] .colab-df-convert {\n",
              "      background-color: #3B4455;\n",
              "      fill: #D2E3FC;\n",
              "    }\n",
              "\n",
              "    [theme=dark] .colab-df-convert:hover {\n",
              "      background-color: #434B5C;\n",
              "      box-shadow: 0px 1px 3px 1px rgba(0, 0, 0, 0.15);\n",
              "      filter: drop-shadow(0px 1px 2px rgba(0, 0, 0, 0.3));\n",
              "      fill: #FFFFFF;\n",
              "    }\n",
              "  </style>\n",
              "\n",
              "    <script>\n",
              "      const buttonEl =\n",
              "        document.querySelector('#df-6d25f2c9-07e2-4397-9bb1-5260d9424bb8 button.colab-df-convert');\n",
              "      buttonEl.style.display =\n",
              "        google.colab.kernel.accessAllowed ? 'block' : 'none';\n",
              "\n",
              "      async function convertToInteractive(key) {\n",
              "        const element = document.querySelector('#df-6d25f2c9-07e2-4397-9bb1-5260d9424bb8');\n",
              "        const dataTable =\n",
              "          await google.colab.kernel.invokeFunction('convertToInteractive',\n",
              "                                                    [key], {});\n",
              "        if (!dataTable) return;\n",
              "\n",
              "        const docLinkHtml = 'Like what you see? Visit the ' +\n",
              "          '<a target=\"_blank\" href=https://colab.research.google.com/notebooks/data_table.ipynb>data table notebook</a>'\n",
              "          + ' to learn more about interactive tables.';\n",
              "        element.innerHTML = '';\n",
              "        dataTable['output_type'] = 'display_data';\n",
              "        await google.colab.output.renderOutput(dataTable, element);\n",
              "        const docLink = document.createElement('div');\n",
              "        docLink.innerHTML = docLinkHtml;\n",
              "        element.appendChild(docLink);\n",
              "      }\n",
              "    </script>\n",
              "  </div>\n",
              "\n",
              "\n",
              "<div id=\"df-a8eda1e4-915a-4a8e-8c90-3a4f3c71a0ad\">\n",
              "  <button class=\"colab-df-quickchart\" onclick=\"quickchart('df-a8eda1e4-915a-4a8e-8c90-3a4f3c71a0ad')\"\n",
              "            title=\"Suggest charts\"\n",
              "            style=\"display:none;\">\n",
              "\n",
              "<svg xmlns=\"http://www.w3.org/2000/svg\" height=\"24px\"viewBox=\"0 0 24 24\"\n",
              "     width=\"24px\">\n",
              "    <g>\n",
              "        <path d=\"M19 3H5c-1.1 0-2 .9-2 2v14c0 1.1.9 2 2 2h14c1.1 0 2-.9 2-2V5c0-1.1-.9-2-2-2zM9 17H7v-7h2v7zm4 0h-2V7h2v10zm4 0h-2v-4h2v4z\"/>\n",
              "    </g>\n",
              "</svg>\n",
              "  </button>\n",
              "\n",
              "<style>\n",
              "  .colab-df-quickchart {\n",
              "      --bg-color: #E8F0FE;\n",
              "      --fill-color: #1967D2;\n",
              "      --hover-bg-color: #E2EBFA;\n",
              "      --hover-fill-color: #174EA6;\n",
              "      --disabled-fill-color: #AAA;\n",
              "      --disabled-bg-color: #DDD;\n",
              "  }\n",
              "\n",
              "  [theme=dark] .colab-df-quickchart {\n",
              "      --bg-color: #3B4455;\n",
              "      --fill-color: #D2E3FC;\n",
              "      --hover-bg-color: #434B5C;\n",
              "      --hover-fill-color: #FFFFFF;\n",
              "      --disabled-bg-color: #3B4455;\n",
              "      --disabled-fill-color: #666;\n",
              "  }\n",
              "\n",
              "  .colab-df-quickchart {\n",
              "    background-color: var(--bg-color);\n",
              "    border: none;\n",
              "    border-radius: 50%;\n",
              "    cursor: pointer;\n",
              "    display: none;\n",
              "    fill: var(--fill-color);\n",
              "    height: 32px;\n",
              "    padding: 0;\n",
              "    width: 32px;\n",
              "  }\n",
              "\n",
              "  .colab-df-quickchart:hover {\n",
              "    background-color: var(--hover-bg-color);\n",
              "    box-shadow: 0 1px 2px rgba(60, 64, 67, 0.3), 0 1px 3px 1px rgba(60, 64, 67, 0.15);\n",
              "    fill: var(--button-hover-fill-color);\n",
              "  }\n",
              "\n",
              "  .colab-df-quickchart-complete:disabled,\n",
              "  .colab-df-quickchart-complete:disabled:hover {\n",
              "    background-color: var(--disabled-bg-color);\n",
              "    fill: var(--disabled-fill-color);\n",
              "    box-shadow: none;\n",
              "  }\n",
              "\n",
              "  .colab-df-spinner {\n",
              "    border: 2px solid var(--fill-color);\n",
              "    border-color: transparent;\n",
              "    border-bottom-color: var(--fill-color);\n",
              "    animation:\n",
              "      spin 1s steps(1) infinite;\n",
              "  }\n",
              "\n",
              "  @keyframes spin {\n",
              "    0% {\n",
              "      border-color: transparent;\n",
              "      border-bottom-color: var(--fill-color);\n",
              "      border-left-color: var(--fill-color);\n",
              "    }\n",
              "    20% {\n",
              "      border-color: transparent;\n",
              "      border-left-color: var(--fill-color);\n",
              "      border-top-color: var(--fill-color);\n",
              "    }\n",
              "    30% {\n",
              "      border-color: transparent;\n",
              "      border-left-color: var(--fill-color);\n",
              "      border-top-color: var(--fill-color);\n",
              "      border-right-color: var(--fill-color);\n",
              "    }\n",
              "    40% {\n",
              "      border-color: transparent;\n",
              "      border-right-color: var(--fill-color);\n",
              "      border-top-color: var(--fill-color);\n",
              "    }\n",
              "    60% {\n",
              "      border-color: transparent;\n",
              "      border-right-color: var(--fill-color);\n",
              "    }\n",
              "    80% {\n",
              "      border-color: transparent;\n",
              "      border-right-color: var(--fill-color);\n",
              "      border-bottom-color: var(--fill-color);\n",
              "    }\n",
              "    90% {\n",
              "      border-color: transparent;\n",
              "      border-bottom-color: var(--fill-color);\n",
              "    }\n",
              "  }\n",
              "</style>\n",
              "\n",
              "  <script>\n",
              "    async function quickchart(key) {\n",
              "      const quickchartButtonEl =\n",
              "        document.querySelector('#' + key + ' button');\n",
              "      quickchartButtonEl.disabled = true;  // To prevent multiple clicks.\n",
              "      quickchartButtonEl.classList.add('colab-df-spinner');\n",
              "      try {\n",
              "        const charts = await google.colab.kernel.invokeFunction(\n",
              "            'suggestCharts', [key], {});\n",
              "      } catch (error) {\n",
              "        console.error('Error during call to suggestCharts:', error);\n",
              "      }\n",
              "      quickchartButtonEl.classList.remove('colab-df-spinner');\n",
              "      quickchartButtonEl.classList.add('colab-df-quickchart-complete');\n",
              "    }\n",
              "    (() => {\n",
              "      let quickchartButtonEl =\n",
              "        document.querySelector('#df-a8eda1e4-915a-4a8e-8c90-3a4f3c71a0ad button');\n",
              "      quickchartButtonEl.style.display =\n",
              "        google.colab.kernel.accessAllowed ? 'block' : 'none';\n",
              "    })();\n",
              "  </script>\n",
              "</div>\n",
              "\n",
              "    </div>\n",
              "  </div>\n"
            ],
            "application/vnd.google.colaboratory.intrinsic+json": {
              "type": "dataframe",
              "variable_name": "atelectasis_df_code",
              "summary": "{\n  \"name\": \"atelectasis_df_code\",\n  \"rows\": 22794,\n  \"fields\": [\n    {\n      \"column\": \"path\",\n      \"properties\": {\n        \"dtype\": \"string\",\n        \"num_unique_values\": 22794,\n        \"samples\": [\n          \"../input/curated-cxr-report-generation-dataset/mimic_dset/re_512_3ch/Train/s56751677.jpg\",\n          \"../input/curated-cxr-report-generation-dataset/mimic_dset/re_512_3ch/Train/s50706466.jpg\",\n          \"../input/curated-cxr-report-generation-dataset/mimic_dset/re_512_3ch/Train/s52689936.jpg\"\n        ],\n        \"semantic_type\": \"\",\n        \"description\": \"\"\n      }\n    },\n    {\n      \"column\": \"text\",\n      \"properties\": {\n        \"dtype\": \"category\",\n        \"num_unique_values\": 5419,\n        \"samples\": [\n          \"likely associated patchy atelectasis\",\n          \"extensive lower lung atelectasis\",\n          \"retrocardiac atelectasis persists\"\n        ],\n        \"semantic_type\": \"\",\n        \"description\": \"\"\n      }\n    }\n  ]\n}"
            }
          },
          "metadata": {},
          "execution_count": 19
        }
      ]
    },
    {
      "cell_type": "code",
      "source": [
        "atelectasis_df_final.to_csv('atelectasis.csv',index=False)\n",
        "atelectasis_df_code.to_csv('atelectasis_captions.txt',index=False)"
      ],
      "metadata": {
        "id": "hpBagg0PERwT"
      },
      "execution_count": 20,
      "outputs": []
    },
    {
      "cell_type": "code",
      "source": [
        "atelectasis_df_full=atelectasis_df_final[['path','Report Impression']]"
      ],
      "metadata": {
        "id": "IzYTHbR9EUPk"
      },
      "execution_count": 21,
      "outputs": []
    },
    {
      "cell_type": "code",
      "source": [
        "atelectasis_df_full.to_csv('atelectasis.txt',index=False)"
      ],
      "metadata": {
        "id": "Qesfc__uEWhH"
      },
      "execution_count": 22,
      "outputs": []
    },
    {
      "cell_type": "code",
      "source": [
        "len(atelectasis_df_full)"
      ],
      "metadata": {
        "colab": {
          "base_uri": "https://localhost:8080/"
        },
        "id": "BkEX8U42EYrj",
        "outputId": "0bd99575-c461-4514-c734-60ff8d4d4262"
      },
      "execution_count": 23,
      "outputs": [
        {
          "output_type": "execute_result",
          "data": {
            "text/plain": [
              "22794"
            ]
          },
          "metadata": {},
          "execution_count": 23
        }
      ]
    },
    {
      "cell_type": "code",
      "source": [
        "atelectasis_df_final.head()"
      ],
      "metadata": {
        "colab": {
          "base_uri": "https://localhost:8080/",
          "height": 441
        },
        "id": "OrSNiLngHLIW",
        "outputId": "96114e6c-fd21-49f9-f2e9-7abf36aa2f10"
      },
      "execution_count": 24,
      "outputs": [
        {
          "output_type": "execute_result",
          "data": {
            "text/plain": [
              "                                                    path  \\\n",
              "83861  ../input/curated-cxr-report-generation-dataset...   \n",
              "35194  ../input/curated-cxr-report-generation-dataset...   \n",
              "15858  ../input/curated-cxr-report-generation-dataset...   \n",
              "5722   ../input/curated-cxr-report-generation-dataset...   \n",
              "7182   ../input/curated-cxr-report-generation-dataset...   \n",
              "\n",
              "                                     text  \\\n",
              "83861  mild right middle lobe atelectasis   \n",
              "35194                   basal atelectasis   \n",
              "15858               bibasilar atelectasis   \n",
              "5722             retrocardiac atelectasis   \n",
              "7182                      the atelectasis   \n",
              "\n",
              "                                       Report Impression  \n",
              "83861  Other than mild right middle lobe atelectasis,...  \n",
              "35194  As compared to the previous radiograph, there ...  \n",
              "15858  NG tube has been advanced in distal stomach. E...  \n",
              "5722   Comparison to ___. No relevant change is noted...  \n",
              "7182   As compared to the previous radiograph, there ...  "
            ],
            "text/html": [
              "\n",
              "  <div id=\"df-265a395b-57bf-4dda-80f4-d3de682b6e32\" class=\"colab-df-container\">\n",
              "    <div>\n",
              "<style scoped>\n",
              "    .dataframe tbody tr th:only-of-type {\n",
              "        vertical-align: middle;\n",
              "    }\n",
              "\n",
              "    .dataframe tbody tr th {\n",
              "        vertical-align: top;\n",
              "    }\n",
              "\n",
              "    .dataframe thead th {\n",
              "        text-align: right;\n",
              "    }\n",
              "</style>\n",
              "<table border=\"1\" class=\"dataframe\">\n",
              "  <thead>\n",
              "    <tr style=\"text-align: right;\">\n",
              "      <th></th>\n",
              "      <th>path</th>\n",
              "      <th>text</th>\n",
              "      <th>Report Impression</th>\n",
              "    </tr>\n",
              "  </thead>\n",
              "  <tbody>\n",
              "    <tr>\n",
              "      <th>83861</th>\n",
              "      <td>../input/curated-cxr-report-generation-dataset...</td>\n",
              "      <td>mild right middle lobe atelectasis</td>\n",
              "      <td>Other than mild right middle lobe atelectasis,...</td>\n",
              "    </tr>\n",
              "    <tr>\n",
              "      <th>35194</th>\n",
              "      <td>../input/curated-cxr-report-generation-dataset...</td>\n",
              "      <td>basal atelectasis</td>\n",
              "      <td>As compared to the previous radiograph, there ...</td>\n",
              "    </tr>\n",
              "    <tr>\n",
              "      <th>15858</th>\n",
              "      <td>../input/curated-cxr-report-generation-dataset...</td>\n",
              "      <td>bibasilar atelectasis</td>\n",
              "      <td>NG tube has been advanced in distal stomach. E...</td>\n",
              "    </tr>\n",
              "    <tr>\n",
              "      <th>5722</th>\n",
              "      <td>../input/curated-cxr-report-generation-dataset...</td>\n",
              "      <td>retrocardiac atelectasis</td>\n",
              "      <td>Comparison to ___. No relevant change is noted...</td>\n",
              "    </tr>\n",
              "    <tr>\n",
              "      <th>7182</th>\n",
              "      <td>../input/curated-cxr-report-generation-dataset...</td>\n",
              "      <td>the atelectasis</td>\n",
              "      <td>As compared to the previous radiograph, there ...</td>\n",
              "    </tr>\n",
              "  </tbody>\n",
              "</table>\n",
              "</div>\n",
              "    <div class=\"colab-df-buttons\">\n",
              "\n",
              "  <div class=\"colab-df-container\">\n",
              "    <button class=\"colab-df-convert\" onclick=\"convertToInteractive('df-265a395b-57bf-4dda-80f4-d3de682b6e32')\"\n",
              "            title=\"Convert this dataframe to an interactive table.\"\n",
              "            style=\"display:none;\">\n",
              "\n",
              "  <svg xmlns=\"http://www.w3.org/2000/svg\" height=\"24px\" viewBox=\"0 -960 960 960\">\n",
              "    <path d=\"M120-120v-720h720v720H120Zm60-500h600v-160H180v160Zm220 220h160v-160H400v160Zm0 220h160v-160H400v160ZM180-400h160v-160H180v160Zm440 0h160v-160H620v160ZM180-180h160v-160H180v160Zm440 0h160v-160H620v160Z\"/>\n",
              "  </svg>\n",
              "    </button>\n",
              "\n",
              "  <style>\n",
              "    .colab-df-container {\n",
              "      display:flex;\n",
              "      gap: 12px;\n",
              "    }\n",
              "\n",
              "    .colab-df-convert {\n",
              "      background-color: #E8F0FE;\n",
              "      border: none;\n",
              "      border-radius: 50%;\n",
              "      cursor: pointer;\n",
              "      display: none;\n",
              "      fill: #1967D2;\n",
              "      height: 32px;\n",
              "      padding: 0 0 0 0;\n",
              "      width: 32px;\n",
              "    }\n",
              "\n",
              "    .colab-df-convert:hover {\n",
              "      background-color: #E2EBFA;\n",
              "      box-shadow: 0px 1px 2px rgba(60, 64, 67, 0.3), 0px 1px 3px 1px rgba(60, 64, 67, 0.15);\n",
              "      fill: #174EA6;\n",
              "    }\n",
              "\n",
              "    .colab-df-buttons div {\n",
              "      margin-bottom: 4px;\n",
              "    }\n",
              "\n",
              "    [theme=dark] .colab-df-convert {\n",
              "      background-color: #3B4455;\n",
              "      fill: #D2E3FC;\n",
              "    }\n",
              "\n",
              "    [theme=dark] .colab-df-convert:hover {\n",
              "      background-color: #434B5C;\n",
              "      box-shadow: 0px 1px 3px 1px rgba(0, 0, 0, 0.15);\n",
              "      filter: drop-shadow(0px 1px 2px rgba(0, 0, 0, 0.3));\n",
              "      fill: #FFFFFF;\n",
              "    }\n",
              "  </style>\n",
              "\n",
              "    <script>\n",
              "      const buttonEl =\n",
              "        document.querySelector('#df-265a395b-57bf-4dda-80f4-d3de682b6e32 button.colab-df-convert');\n",
              "      buttonEl.style.display =\n",
              "        google.colab.kernel.accessAllowed ? 'block' : 'none';\n",
              "\n",
              "      async function convertToInteractive(key) {\n",
              "        const element = document.querySelector('#df-265a395b-57bf-4dda-80f4-d3de682b6e32');\n",
              "        const dataTable =\n",
              "          await google.colab.kernel.invokeFunction('convertToInteractive',\n",
              "                                                    [key], {});\n",
              "        if (!dataTable) return;\n",
              "\n",
              "        const docLinkHtml = 'Like what you see? Visit the ' +\n",
              "          '<a target=\"_blank\" href=https://colab.research.google.com/notebooks/data_table.ipynb>data table notebook</a>'\n",
              "          + ' to learn more about interactive tables.';\n",
              "        element.innerHTML = '';\n",
              "        dataTable['output_type'] = 'display_data';\n",
              "        await google.colab.output.renderOutput(dataTable, element);\n",
              "        const docLink = document.createElement('div');\n",
              "        docLink.innerHTML = docLinkHtml;\n",
              "        element.appendChild(docLink);\n",
              "      }\n",
              "    </script>\n",
              "  </div>\n",
              "\n",
              "\n",
              "<div id=\"df-5e6ef60a-31ba-4826-a675-fb0f4a2bb5dc\">\n",
              "  <button class=\"colab-df-quickchart\" onclick=\"quickchart('df-5e6ef60a-31ba-4826-a675-fb0f4a2bb5dc')\"\n",
              "            title=\"Suggest charts\"\n",
              "            style=\"display:none;\">\n",
              "\n",
              "<svg xmlns=\"http://www.w3.org/2000/svg\" height=\"24px\"viewBox=\"0 0 24 24\"\n",
              "     width=\"24px\">\n",
              "    <g>\n",
              "        <path d=\"M19 3H5c-1.1 0-2 .9-2 2v14c0 1.1.9 2 2 2h14c1.1 0 2-.9 2-2V5c0-1.1-.9-2-2-2zM9 17H7v-7h2v7zm4 0h-2V7h2v10zm4 0h-2v-4h2v4z\"/>\n",
              "    </g>\n",
              "</svg>\n",
              "  </button>\n",
              "\n",
              "<style>\n",
              "  .colab-df-quickchart {\n",
              "      --bg-color: #E8F0FE;\n",
              "      --fill-color: #1967D2;\n",
              "      --hover-bg-color: #E2EBFA;\n",
              "      --hover-fill-color: #174EA6;\n",
              "      --disabled-fill-color: #AAA;\n",
              "      --disabled-bg-color: #DDD;\n",
              "  }\n",
              "\n",
              "  [theme=dark] .colab-df-quickchart {\n",
              "      --bg-color: #3B4455;\n",
              "      --fill-color: #D2E3FC;\n",
              "      --hover-bg-color: #434B5C;\n",
              "      --hover-fill-color: #FFFFFF;\n",
              "      --disabled-bg-color: #3B4455;\n",
              "      --disabled-fill-color: #666;\n",
              "  }\n",
              "\n",
              "  .colab-df-quickchart {\n",
              "    background-color: var(--bg-color);\n",
              "    border: none;\n",
              "    border-radius: 50%;\n",
              "    cursor: pointer;\n",
              "    display: none;\n",
              "    fill: var(--fill-color);\n",
              "    height: 32px;\n",
              "    padding: 0;\n",
              "    width: 32px;\n",
              "  }\n",
              "\n",
              "  .colab-df-quickchart:hover {\n",
              "    background-color: var(--hover-bg-color);\n",
              "    box-shadow: 0 1px 2px rgba(60, 64, 67, 0.3), 0 1px 3px 1px rgba(60, 64, 67, 0.15);\n",
              "    fill: var(--button-hover-fill-color);\n",
              "  }\n",
              "\n",
              "  .colab-df-quickchart-complete:disabled,\n",
              "  .colab-df-quickchart-complete:disabled:hover {\n",
              "    background-color: var(--disabled-bg-color);\n",
              "    fill: var(--disabled-fill-color);\n",
              "    box-shadow: none;\n",
              "  }\n",
              "\n",
              "  .colab-df-spinner {\n",
              "    border: 2px solid var(--fill-color);\n",
              "    border-color: transparent;\n",
              "    border-bottom-color: var(--fill-color);\n",
              "    animation:\n",
              "      spin 1s steps(1) infinite;\n",
              "  }\n",
              "\n",
              "  @keyframes spin {\n",
              "    0% {\n",
              "      border-color: transparent;\n",
              "      border-bottom-color: var(--fill-color);\n",
              "      border-left-color: var(--fill-color);\n",
              "    }\n",
              "    20% {\n",
              "      border-color: transparent;\n",
              "      border-left-color: var(--fill-color);\n",
              "      border-top-color: var(--fill-color);\n",
              "    }\n",
              "    30% {\n",
              "      border-color: transparent;\n",
              "      border-left-color: var(--fill-color);\n",
              "      border-top-color: var(--fill-color);\n",
              "      border-right-color: var(--fill-color);\n",
              "    }\n",
              "    40% {\n",
              "      border-color: transparent;\n",
              "      border-right-color: var(--fill-color);\n",
              "      border-top-color: var(--fill-color);\n",
              "    }\n",
              "    60% {\n",
              "      border-color: transparent;\n",
              "      border-right-color: var(--fill-color);\n",
              "    }\n",
              "    80% {\n",
              "      border-color: transparent;\n",
              "      border-right-color: var(--fill-color);\n",
              "      border-bottom-color: var(--fill-color);\n",
              "    }\n",
              "    90% {\n",
              "      border-color: transparent;\n",
              "      border-bottom-color: var(--fill-color);\n",
              "    }\n",
              "  }\n",
              "</style>\n",
              "\n",
              "  <script>\n",
              "    async function quickchart(key) {\n",
              "      const quickchartButtonEl =\n",
              "        document.querySelector('#' + key + ' button');\n",
              "      quickchartButtonEl.disabled = true;  // To prevent multiple clicks.\n",
              "      quickchartButtonEl.classList.add('colab-df-spinner');\n",
              "      try {\n",
              "        const charts = await google.colab.kernel.invokeFunction(\n",
              "            'suggestCharts', [key], {});\n",
              "      } catch (error) {\n",
              "        console.error('Error during call to suggestCharts:', error);\n",
              "      }\n",
              "      quickchartButtonEl.classList.remove('colab-df-spinner');\n",
              "      quickchartButtonEl.classList.add('colab-df-quickchart-complete');\n",
              "    }\n",
              "    (() => {\n",
              "      let quickchartButtonEl =\n",
              "        document.querySelector('#df-5e6ef60a-31ba-4826-a675-fb0f4a2bb5dc button');\n",
              "      quickchartButtonEl.style.display =\n",
              "        google.colab.kernel.accessAllowed ? 'block' : 'none';\n",
              "    })();\n",
              "  </script>\n",
              "</div>\n",
              "\n",
              "    </div>\n",
              "  </div>\n"
            ],
            "application/vnd.google.colaboratory.intrinsic+json": {
              "type": "dataframe",
              "variable_name": "atelectasis_df_final",
              "summary": "{\n  \"name\": \"atelectasis_df_final\",\n  \"rows\": 22794,\n  \"fields\": [\n    {\n      \"column\": \"path\",\n      \"properties\": {\n        \"dtype\": \"string\",\n        \"num_unique_values\": 22794,\n        \"samples\": [\n          \"../input/curated-cxr-report-generation-dataset/mimic_dset/re_512_3ch/Train/s56751677.jpg\",\n          \"../input/curated-cxr-report-generation-dataset/mimic_dset/re_512_3ch/Train/s50706466.jpg\",\n          \"../input/curated-cxr-report-generation-dataset/mimic_dset/re_512_3ch/Train/s52689936.jpg\"\n        ],\n        \"semantic_type\": \"\",\n        \"description\": \"\"\n      }\n    },\n    {\n      \"column\": \"text\",\n      \"properties\": {\n        \"dtype\": \"category\",\n        \"num_unique_values\": 5419,\n        \"samples\": [\n          \"likely associated patchy atelectasis\",\n          \"extensive lower lung atelectasis\",\n          \"retrocardiac atelectasis persists\"\n        ],\n        \"semantic_type\": \"\",\n        \"description\": \"\"\n      }\n    },\n    {\n      \"column\": \"Report Impression\",\n      \"properties\": {\n        \"dtype\": \"string\",\n        \"num_unique_values\": 22783,\n        \"samples\": [\n          \"As compared to the previous radiograph, the pleural drain was changed. Patient has undergone pericardial windowing. There is a newly occurred 2 cm apicolateral right pneumothorax. No evidence of tension. Unchanged right basal and new left retrocardiac atelectasis. Unchanged moderate cardiomegaly. Unchanged appearance of the left lung.\",\n          \"Single AP upright portable view of the chest was obtained. Dual-lead left-sided pacer device is again seen, leads unchanged in position. Aorta remains calcified and unfolded. Mild enlargement of the cardiac silhouette persists. Bibasilar atelectasis is again seen. There is minimal to no pulmonary vascular congestion.\",\n          \"No previous images. There is hyperexpansion of the lungs, suggesting underlying chronic pulmonary disease. No acute focal pneumonia or vascular congestion. Blunting of the costophrenic angles could reflect small effusions with basilar atelectasis.\"\n        ],\n        \"semantic_type\": \"\",\n        \"description\": \"\"\n      }\n    }\n  ]\n}"
            }
          },
          "metadata": {},
          "execution_count": 24
        }
      ]
    },
    {
      "cell_type": "code",
      "source": [],
      "metadata": {
        "id": "fJCLM95BHuOg"
      },
      "execution_count": 24,
      "outputs": []
    }
  ]
}